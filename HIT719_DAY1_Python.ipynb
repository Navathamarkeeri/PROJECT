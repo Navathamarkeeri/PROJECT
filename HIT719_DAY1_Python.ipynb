{
  "nbformat": 4,
  "nbformat_minor": 0,
  "metadata": {
    "colab": {
      "provenance": [],
      "authorship_tag": "ABX9TyM4iRZfjDtobDTKS6SSNM7W",
      "include_colab_link": true
    },
    "kernelspec": {
      "name": "python3",
      "display_name": "Python 3"
    },
    "language_info": {
      "name": "python"
    }
  },
  "cells": [
    {
      "cell_type": "markdown",
      "metadata": {
        "id": "view-in-github",
        "colab_type": "text"
      },
      "source": [
        "<a href=\"https://colab.research.google.com/github/Navathamarkeeri/PROJECT/blob/python/HIT719_DAY1_Python.ipynb\" target=\"_parent\"><img src=\"https://colab.research.google.com/assets/colab-badge.svg\" alt=\"Open In Colab\"/></a>"
      ]
    },
    {
      "cell_type": "markdown",
      "source": [
        "This is phyton UI"
      ],
      "metadata": {
        "id": "l0t_yOcAxMcy"
      }
    },
    {
      "cell_type": "code",
      "source": [
        "var1 =input (\"Hi plese give me the input\")"
      ],
      "metadata": {
        "colab": {
          "base_uri": "https://localhost:8080/"
        },
        "id": "y_CCgc-dyBvO",
        "outputId": "49314f9d-6065-460a-aa18-0550c8c6c4cd"
      },
      "execution_count": null,
      "outputs": [
        {
          "name": "stdout",
          "output_type": "stream",
          "text": [
            "Hi plese give me the input123\n"
          ]
        }
      ]
    },
    {
      "cell_type": "code",
      "source": [
        "[ ] # input Data\n",
        "variable_name = input(\"Enter your input:\")"
      ],
      "metadata": {
        "colab": {
          "base_uri": "https://localhost:8080/"
        },
        "id": "VN7NG0l10EwA",
        "outputId": "7b5ac79f-1e85-4198-953d-c8227d97c4ca"
      },
      "execution_count": null,
      "outputs": [
        {
          "name": "stdout",
          "output_type": "stream",
          "text": [
            "Enter your input:123\n"
          ]
        }
      ]
    },
    {
      "cell_type": "code",
      "source": [
        "variable_name"
      ],
      "metadata": {
        "colab": {
          "base_uri": "https://localhost:8080/",
          "height": 35
        },
        "id": "EEo7Qryg08cy",
        "outputId": "58adacea-eaf6-4fdf-d459-6508abfcde70"
      },
      "execution_count": null,
      "outputs": [
        {
          "output_type": "execute_result",
          "data": {
            "text/plain": [
              "'123'"
            ],
            "application/vnd.google.colaboratory.intrinsic+json": {
              "type": "string"
            }
          },
          "metadata": {},
          "execution_count": 3
        }
      ]
    },
    {
      "cell_type": "code",
      "source": [
        "print(variable_name,\"12\")"
      ],
      "metadata": {
        "colab": {
          "base_uri": "https://localhost:8080/"
        },
        "id": "ZJPjhZbG1F80",
        "outputId": "0cab81a0-cdce-4612-b985-11b66c10cf84"
      },
      "execution_count": null,
      "outputs": [
        {
          "output_type": "stream",
          "name": "stdout",
          "text": [
            "123 12\n"
          ]
        }
      ]
    },
    {
      "cell_type": "code",
      "source": [
        "# In the next step we are printing the output\n",
        "print(\"Variable Value is:\", variable_name)"
      ],
      "metadata": {
        "colab": {
          "base_uri": "https://localhost:8080/"
        },
        "id": "NFETdiIY1ZD4",
        "outputId": "549bfee4-6d85-403d-f511-9798c868c3c3"
      },
      "execution_count": null,
      "outputs": [
        {
          "output_type": "stream",
          "name": "stdout",
          "text": [
            "Variable Value is: 123\n"
          ]
        }
      ]
    },
    {
      "cell_type": "code",
      "source": [
        "# python has an indentation feature\n",
        "print(variable_name)\n"
      ],
      "metadata": {
        "colab": {
          "base_uri": "https://localhost:8080/"
        },
        "id": "G-PjkIaw2Z5r",
        "outputId": "cdcbc10f-51ba-44e7-cb76-7886a1e13123"
      },
      "execution_count": null,
      "outputs": [
        {
          "output_type": "stream",
          "name": "stdout",
          "text": [
            "123\n"
          ]
        }
      ]
    },
    {
      "cell_type": "code",
      "source": [],
      "metadata": {
        "id": "clYgrPYO2_l9"
      },
      "execution_count": null,
      "outputs": []
    },
    {
      "cell_type": "markdown",
      "source": [
        "variables are dynamically typed"
      ],
      "metadata": {
        "id": "G7KGr8UC3Ov0"
      }
    },
    {
      "cell_type": "code",
      "source": [
        "cab = 'ola'\n",
        "CAB = \"olal\"\n",
        "_cost = 100.6"
      ],
      "metadata": {
        "id": "BE8ofv303VYL"
      },
      "execution_count": null,
      "outputs": []
    },
    {
      "cell_type": "code",
      "source": [
        "cab = 'ola'"
      ],
      "metadata": {
        "id": "bw7O5P2s39HY"
      },
      "execution_count": null,
      "outputs": []
    },
    {
      "cell_type": "code",
      "source": [
        "int(99.99999)"
      ],
      "metadata": {
        "colab": {
          "base_uri": "https://localhost:8080/"
        },
        "id": "P1yirH384qGZ",
        "outputId": "a99f9d6e-6135-459d-96ea-7550bacbcf48"
      },
      "execution_count": null,
      "outputs": [
        {
          "output_type": "execute_result",
          "data": {
            "text/plain": [
              "99"
            ]
          },
          "metadata": {},
          "execution_count": 12
        }
      ]
    },
    {
      "cell_type": "code",
      "source": [],
      "metadata": {
        "id": "uHshBHFh7HAo"
      },
      "execution_count": null,
      "outputs": []
    },
    {
      "cell_type": "markdown",
      "source": [],
      "metadata": {
        "id": "pKiPeDP1HLMU"
      }
    },
    {
      "source": [
        "# Original code:\n",
        "# type(cost1)\n",
        "\n",
        "# Replace with:\n",
        "type(_cost)  # If you intended to use the '_cost' variable.\n",
        "# OR\n",
        "cost1 = 10  # Assign a value to 'cost1' before using it.\n",
        "type(cost1)"
      ],
      "cell_type": "code",
      "metadata": {
        "colab": {
          "base_uri": "https://localhost:8080/"
        },
        "id": "QUl3K-Or7IT1",
        "outputId": "53c98b58-4653-4a7e-c396-cb64d370cc1c"
      },
      "execution_count": null,
      "outputs": [
        {
          "output_type": "execute_result",
          "data": {
            "text/plain": [
              "int"
            ]
          },
          "metadata": {},
          "execution_count": 17
        }
      ]
    },
    {
      "cell_type": "code",
      "source": [],
      "metadata": {
        "id": "3RLjiiEa5AyY"
      },
      "execution_count": null,
      "outputs": []
    },
    {
      "cell_type": "markdown",
      "source": [
        "data types"
      ],
      "metadata": {
        "id": "sGeRRm0L5CnR"
      }
    },
    {
      "cell_type": "code",
      "source": [
        "x = 12\n",
        "y = 11\n",
        "\n",
        "# x = 12.3\n",
        "# y = 11.2\n",
        "print(x,y)\n",
        "z=x+y\n",
        "\n",
        "#Basic Operations\n",
        "print(\"add x and y is:\",z)\n",
        "print(\"sub x and y is:\",(x-y))\n",
        "print(\"mul x and y is:\",(x*y))\n",
        "print(\"div x and y is:\",(x/y))\n",
        "print(\"Modulus x and y is:\",(x%y))\n",
        "print(\"power x to y is:\",(x++y))"
      ],
      "metadata": {
        "colab": {
          "base_uri": "https://localhost:8080/"
        },
        "id": "_k5cg7gO5FYj",
        "outputId": "49fe21bf-b13c-4ce5-9b59-08e0b190bfa3"
      },
      "execution_count": null,
      "outputs": [
        {
          "output_type": "stream",
          "name": "stdout",
          "text": [
            "12 11\n",
            "add x and y is: 23\n",
            "sub x and y is: 1\n",
            "mul x and y is: 132\n",
            "div x and y is: 1.0909090909090908\n",
            "Modulus x and y is: 1\n",
            "power x to y is: 23\n"
          ]
        }
      ]
    },
    {
      "cell_type": "code",
      "source": [],
      "metadata": {
        "id": "n2rSHsnf7sDR"
      },
      "execution_count": null,
      "outputs": []
    },
    {
      "cell_type": "markdown",
      "source": [
        "boolean ; these are used to represent logical operations 1. true ,2.false"
      ],
      "metadata": {
        "id": "C8NUoalj7tHb"
      }
    },
    {
      "cell_type": "code",
      "source": [
        "x = 1\n",
        "y = 2\n",
        "w,z = 1,2\n",
        "a = True\n",
        "b = False\n",
        "\n",
        "# Basic Operations\n",
        "print('x==y : ',x==y)\n",
        "print('x!=y : ',x!=y)\n",
        "print('x<y : ',x<y)\n",
        "print('x>y : ',x>y)\n",
        "print('x<=y : ',x<=y)\n",
        "print('x>=y : ',x>=y)\n",
        "print ('y==z : ',y==z)\n",
        "print ('w==z : ',w==z)\n",
        "print ('a==b : ',a==b)\n",
        "\n",
        "print ('a and b :' ,a and b)\n",
        "print ('a or b :',a or b)\n",
        "print ('not a :',not a)\n"
      ],
      "metadata": {
        "colab": {
          "base_uri": "https://localhost:8080/"
        },
        "id": "WTvUlxE875UK",
        "outputId": "ffc98326-066f-4b43-eb4f-5793d1574c8b"
      },
      "execution_count": null,
      "outputs": [
        {
          "output_type": "stream",
          "name": "stdout",
          "text": [
            "x==y :  False\n",
            "x!=y :  True\n",
            "x<y :  True\n",
            "x>y :  False\n",
            "x<=y :  True\n",
            "x>=y :  False\n",
            "y==z :  True\n",
            "w==z :  False\n",
            "a==b :  False\n",
            "a and b : False\n",
            "a or b : True\n",
            "not a : False\n"
          ]
        }
      ]
    },
    {
      "cell_type": "markdown",
      "source": [
        "STRING: this is used to represent the sequence of character"
      ],
      "metadata": {
        "id": "0BigyeGu-x0S"
      }
    },
    {
      "cell_type": "code",
      "source": [
        "from os import replace\n",
        "s1 = 'Hi this is a string data'\n",
        "\n",
        "# # Basic Operations\n",
        "print(\"initial string:\",s1)\n",
        "print(\"first 2 chars string:\",s1[:2])\n",
        "print(\"last 3 chars string:\",s1[-3:1])\n",
        "print(\"substracting 4 to 8 chars string:\",s1[3:7])\n",
        "print(\"string length:\",len(s1))\n",
        "print(\"string in upper case:\",s1.upper())\n",
        "print(\"string in lower case:\",s1.lower())\n",
        "print(\"Replace substring:\",s1.replace('','-'))\n",
        "print(\"contains substring Hi:\", (\"Hi\" in s1))\n",
        "print(\"contat substring user:\",(s1+\"user\"))"
      ],
      "metadata": {
        "colab": {
          "base_uri": "https://localhost:8080/"
        },
        "id": "WP4LehQT-76D",
        "outputId": "b5f7942a-f25e-405f-e22a-bbf6ccbb76cb"
      },
      "execution_count": null,
      "outputs": [
        {
          "output_type": "stream",
          "name": "stdout",
          "text": [
            "initial string: Hi this is a string data\n",
            "first 2 chars string: Hi\n",
            "last 3 chars string: \n",
            "substracting 4 to 8 chars string: this\n",
            "string length: 24\n",
            "string in upper case: HI THIS IS A STRING DATA\n",
            "string in lower case: hi this is a string data\n",
            "Replace substring: -H-i- -t-h-i-s- -i-s- -a- -s-t-r-i-n-g- -d-a-t-a-\n",
            "contains substring Hi: True\n",
            "contat substring user: Hi this is a string datauser\n"
          ]
        }
      ]
    },
    {
      "cell_type": "markdown",
      "source": [
        "list : this is used to store a ordered sequence of multiple elements"
      ],
      "metadata": {
        "id": "rRmo055kHOj3"
      }
    },
    {
      "cell_type": "code",
      "source": [
        "l1 = [100,200,250,300,350]"
      ],
      "metadata": {
        "id": "oAhSudu8HaHK"
      },
      "execution_count": null,
      "outputs": []
    },
    {
      "cell_type": "code",
      "source": [
        "# syntax\n",
        "# list [] or li = []\n",
        "l1 = [100,200,250,300,350]\n",
        "print(\"Initial list:\",l1)\n",
        "# Length\n",
        "len1 = len(l1)\n",
        "print(\"Length of list:\",len1)\n",
        "\n",
        "# Access\n",
        "print(\"1st element of list:\",l1[0])\n",
        "print(\"from 2nd to 3rd element of list:\",l1[1:3])\n",
        "print(\"last element of list:\",l1[-1])\n",
        "\n",
        "# Adding elements\n",
        "# 1. Append elements\n",
        "l1.append(10)\n",
        "print(\"Append 10 to the list:\",l1)\n",
        "\n",
        "# 2. Insert elements\n",
        "l1.insert(1,50)\n",
        "print(\"insert 50 at pos. 1:\",l1)\n",
        "\n",
        "# 3. Concatenation elements\n",
        "l1 = l1 + [11,12]\n",
        "print(\"concatenate 2 lists:,l1\")\n",
        "\n",
        "# removing elements\n",
        "l1.remove(300)\n",
        "print(\"remove 300 from list:\",l1)\n",
        "\n",
        "# sort elements\n",
        "l1.sort()\n",
        "print(\"sort list:\",l1)\n",
        "\n",
        "# contain element\n",
        "print(\"whether  list contains 10:\",(10 in l1))\n",
        "\n",
        "\n",
        "\n",
        "\n"
      ],
      "metadata": {
        "colab": {
          "base_uri": "https://localhost:8080/"
        },
        "id": "IQK-YBqYIyDP",
        "outputId": "19caade5-e54b-4216-b6f1-1cf2b682c148"
      },
      "execution_count": null,
      "outputs": [
        {
          "output_type": "stream",
          "name": "stdout",
          "text": [
            "Initial list: [100, 200, 250, 300, 350]\n",
            "Length of list: 5\n",
            "1st element of list: 100\n",
            "from 2nd to 3rd element of list: [200, 250]\n",
            "last element of list: 350\n",
            "Append 10 to the list: [100, 200, 250, 300, 350, 10]\n",
            "insert 50 at pos. 1: [100, 50, 200, 250, 300, 350, 10]\n",
            "concatenate 2 lists:,l1\n",
            "remove 300 from list: [100, 50, 200, 250, 350, 10, 11, 12]\n",
            "sort list: [10, 11, 12, 50, 100, 200, 250, 350]\n",
            "whether  list contains 10: True\n"
          ]
        }
      ]
    },
    {
      "cell_type": "code",
      "source": [
        "# syntax\n",
        "# set1 = {} or set 1 = {[]} or set(list)\n",
        "set1 = {\"patient 1\",\"patient 2\",\"patient 3\" \"patient 4\"}\n",
        "print(\"Initial set:\",set1)\n",
        "print(\"Length of initial set:\",len(set1))\n",
        "\n",
        "#unique elements in a list\n",
        "list1 = [\"patient1\",\"patient2\",\"patient3\",\"patient2\",\"patient3\",\"patient1\",\"patient2\"]\n",
        "set2 = set(list1)\n",
        "print(\"unique elements in a list:\",set2)\n",
        "\n",
        "# substract 2 sets\n",
        "set3= set1-set2\n",
        "print(\"difference between 2 sets:\",set3)\n"
      ],
      "metadata": {
        "colab": {
          "base_uri": "https://localhost:8080/"
        },
        "id": "47xqz0g1No9x",
        "outputId": "a8fd14e7-ccb9-4a05-da1a-0d833838352a"
      },
      "execution_count": null,
      "outputs": [
        {
          "output_type": "stream",
          "name": "stdout",
          "text": [
            "Initial set: {'patient 1', 'patient 3patient 4', 'patient 2'}\n",
            "Length of initial set: 3\n",
            "unique elements in a list: {'patient1', 'patient3', 'patient2'}\n",
            "difference between 2 sets: {'patient 3patient 4', 'patient 1', 'patient 2'}\n"
          ]
        }
      ]
    },
    {
      "cell_type": "code",
      "source": [],
      "metadata": {
        "id": "hXng9t_4RjVA"
      },
      "execution_count": null,
      "outputs": []
    },
    {
      "cell_type": "markdown",
      "source": [
        "dictonary : this is used to create key value pairs where each key is unique"
      ],
      "metadata": {
        "id": "oOGYBkveRvGn"
      }
    },
    {
      "cell_type": "code",
      "source": [
        "# syntax\n",
        "# dict1 = {\"\":\"\",\"\":\"\"}\n",
        "\n",
        "dict_age = {\"patient 1\":10,\"patient 2\":20,\"patient 3\":30}\n",
        "\n",
        "# Acess Keys\n",
        "print(\"keys are:\",dict_age.keys())\n",
        "\n",
        "# Acess Values\n",
        "print(\"values are:\",dict_age.values())\n",
        "\n",
        "# Acess value based on key\n",
        "print(\"Age of patient 1 is:\",dict_age['patient 1'])"
      ],
      "metadata": {
        "colab": {
          "base_uri": "https://localhost:8080/"
        },
        "id": "zBKN9T05R8CB",
        "outputId": "34362a97-26b9-41d9-ba91-29c52b684019"
      },
      "execution_count": null,
      "outputs": [
        {
          "output_type": "stream",
          "name": "stdout",
          "text": [
            "keys are: dict_keys(['patient 1', 'patient 2', 'patient 3'])\n",
            "values are: dict_values([10, 20, 30])\n",
            "Age of patient 1 is: 10\n"
          ]
        }
      ]
    },
    {
      "cell_type": "markdown",
      "source": [
        "tuples ;this is used to store ordered set of immutable elements"
      ],
      "metadata": {
        "id": "Ez2LMKqjVBYd"
      }
    },
    {
      "cell_type": "code",
      "source": [
        "# Example tuple representing patient information (name, age,gender)\n",
        "patient1 = (\"patient1:\",30, \"male\")\n",
        "patient2 = (\"Alice smith\",40, \"female\")\n",
        "\n",
        "#Access\n",
        "print(\"Age of patient1:\",patient1[1])\n",
        "\n",
        "# unpacking\n",
        "p1_name,p1_age,p1_gender = patient1\n",
        "print(\"Name of patient1:\",p1_name)"
      ],
      "metadata": {
        "colab": {
          "base_uri": "https://localhost:8080/"
        },
        "id": "knPiquogVQFv",
        "outputId": "5f1a1f95-640e-47d8-dae2-4b422d20391a"
      },
      "execution_count": null,
      "outputs": [
        {
          "output_type": "stream",
          "name": "stdout",
          "text": [
            "Age of patient1: 30\n",
            "Name of patient1: patient1:\n"
          ]
        }
      ]
    },
    {
      "cell_type": "code",
      "source": [
        "patient2\n"
      ],
      "metadata": {
        "colab": {
          "base_uri": "https://localhost:8080/"
        },
        "id": "KNuzU-mdWott",
        "outputId": "41f3eadf-2903-42a3-ee8b-c5b2d49fa162"
      },
      "execution_count": null,
      "outputs": [
        {
          "output_type": "execute_result",
          "data": {
            "text/plain": [
              "('Alice smith', 40, 'female')"
            ]
          },
          "metadata": {},
          "execution_count": 46
        }
      ]
    },
    {
      "cell_type": "code",
      "source": [
        "patient1[0]"
      ],
      "metadata": {
        "colab": {
          "base_uri": "https://localhost:8080/",
          "height": 35
        },
        "id": "hFWDFCNhXXSk",
        "outputId": "c981a08c-2c4b-4fbb-fc6b-f0f2dff268e3"
      },
      "execution_count": null,
      "outputs": [
        {
          "output_type": "execute_result",
          "data": {
            "text/plain": [
              "'patient1:'"
            ],
            "application/vnd.google.colaboratory.intrinsic+json": {
              "type": "string"
            }
          },
          "metadata": {},
          "execution_count": 48
        }
      ]
    }
  ]
}