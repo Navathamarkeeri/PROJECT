{
  "metadata": {
    "kernelspec": {
      "language": "python",
      "display_name": "Python 3",
      "name": "python3"
    },
    "language_info": {
      "name": "python",
      "version": "3.10.14",
      "mimetype": "text/x-python",
      "codemirror_mode": {
        "name": "ipython",
        "version": 3
      },
      "pygments_lexer": "ipython3",
      "nbconvert_exporter": "python",
      "file_extension": ".py"
    },
    "kaggle": {
      "accelerator": "none",
      "dataSources": [],
      "dockerImageVersionId": 30786,
      "isInternetEnabled": true,
      "language": "python",
      "sourceType": "notebook",
      "isGpuEnabled": false
    },
    "colab": {
      "provenance": [],
      "include_colab_link": true
    }
  },
  "nbformat_minor": 0,
  "nbformat": 4,
  "cells": [
    {
      "cell_type": "markdown",
      "metadata": {
        "id": "view-in-github",
        "colab_type": "text"
      },
      "source": [
        "<a href=\"https://colab.research.google.com/github/Navathamarkeeri/PROJECT/blob/python/Copy_of_notebook_day_2_Q_%26_A_with_rag_N.ipynb\" target=\"_parent\"><img src=\"https://colab.research.google.com/assets/colab-badge.svg\" alt=\"Open In Colab\"/></a>"
      ]
    },
    {
      "cell_type": "code",
      "source": [
        "# This Python 3 environment comes with many helpful analytics libraries installed\n",
        "# It is defined by the kaggle/python Docker image: https://github.com/kaggle/docker-python\n",
        "# For example, here's several helpful packages to load\n",
        "\n",
        "import numpy as np # linear algebra\n",
        "import pandas as pd # data processing, CSV file I/O (e.g. pd.read_csv)\n",
        "\n",
        "# Input data files are available in the read-only \"../input/\" directory\n",
        "# For example, running this (by clicking run or pressing Shift+Enter) will list all files under the input directory\n",
        "\n",
        "import os\n",
        "for dirname, _, filenames in os.walk('/kaggle/input'):\n",
        "    for filename in filenames:\n",
        "        print(os.path.join(dirname, filename))\n",
        "\n",
        "# You can write up to 20GB to the current directory (/kaggle/working/) that gets preserved as output when you create a version using \"Save & Run All\"\n",
        "# You can also write temporary files to /kaggle/temp/, but they won't be saved outside of the current session"
      ],
      "metadata": {
        "_uuid": "8f2839f25d086af736a60e9eeb907d3b93b6e0e5",
        "_cell_guid": "b1076dfc-b9ad-4769-8c92-a6c4dae69d19",
        "trusted": true,
        "execution": {
          "iopub.status.busy": "2024-11-13T09:06:42.270455Z",
          "iopub.execute_input": "2024-11-13T09:06:42.270931Z",
          "iopub.status.idle": "2024-11-13T09:06:42.278668Z",
          "shell.execute_reply.started": "2024-11-13T09:06:42.270883Z",
          "shell.execute_reply": "2024-11-13T09:06:42.277391Z"
        },
        "id": "5YROV7Ec1iru"
      },
      "outputs": [],
      "execution_count": null
    },
    {
      "cell_type": "code",
      "source": [
        "%pip install -U -q \"google-generativeai>=0.8.3\" chromadb"
      ],
      "metadata": {
        "trusted": true,
        "execution": {
          "iopub.status.busy": "2024-11-13T09:06:42.281127Z",
          "iopub.execute_input": "2024-11-13T09:06:42.28158Z",
          "iopub.status.idle": "2024-11-13T09:07:01.875275Z",
          "shell.execute_reply.started": "2024-11-13T09:06:42.281522Z",
          "shell.execute_reply": "2024-11-13T09:07:01.873634Z"
        },
        "id": "j9GtQKRO1irw",
        "outputId": "6f9ea021-8675-44ae-bfa8-23e15f966059"
      },
      "outputs": [
        {
          "name": "stdout",
          "text": "Note: you may need to restart the kernel to use updated packages.\n",
          "output_type": "stream"
        }
      ],
      "execution_count": null
    },
    {
      "cell_type": "code",
      "source": [
        "import google.generativeai as genai\n",
        "from IPython.display import Markdown"
      ],
      "metadata": {
        "trusted": true,
        "execution": {
          "iopub.status.busy": "2024-11-13T09:07:01.877286Z",
          "iopub.execute_input": "2024-11-13T09:07:01.878323Z",
          "iopub.status.idle": "2024-11-13T09:07:01.883939Z",
          "shell.execute_reply.started": "2024-11-13T09:07:01.878259Z",
          "shell.execute_reply": "2024-11-13T09:07:01.882787Z"
        },
        "id": "VX2MF5T21irx"
      },
      "outputs": [],
      "execution_count": null
    },
    {
      "cell_type": "code",
      "source": [
        "from kaggle_secrets import UserSecretsClient\n",
        "\n",
        "GOOGLE_API_KEY = UserSecretsClient().get_secret(\"GOOGLE_API_KEY\")\n",
        "genai.configure(api_key=GOOGLE_API_KEY)"
      ],
      "metadata": {
        "trusted": true,
        "execution": {
          "iopub.status.busy": "2024-11-13T09:07:01.886426Z",
          "iopub.execute_input": "2024-11-13T09:07:01.886841Z",
          "iopub.status.idle": "2024-11-13T09:07:02.03903Z",
          "shell.execute_reply.started": "2024-11-13T09:07:01.886785Z",
          "shell.execute_reply": "2024-11-13T09:07:02.037754Z"
        },
        "id": "9T-fs5Cy1irx"
      },
      "outputs": [],
      "execution_count": null
    },
    {
      "cell_type": "code",
      "source": [
        "for m in genai.list_models():\n",
        "    if \"embedContent\" in m.supported_generation_methods:\n",
        "        print(m.name)"
      ],
      "metadata": {
        "trusted": true,
        "execution": {
          "iopub.status.busy": "2024-11-13T09:07:02.040455Z",
          "iopub.execute_input": "2024-11-13T09:07:02.040826Z",
          "iopub.status.idle": "2024-11-13T09:07:02.225678Z",
          "shell.execute_reply.started": "2024-11-13T09:07:02.040785Z",
          "shell.execute_reply": "2024-11-13T09:07:02.224546Z"
        },
        "id": "M4izk5hp1irx",
        "outputId": "a50795e9-7adb-498e-86a0-ad17c738d13b"
      },
      "outputs": [
        {
          "name": "stdout",
          "text": "models/embedding-001\nmodels/text-embedding-004\n",
          "output_type": "stream"
        }
      ],
      "execution_count": null
    },
    {
      "cell_type": "code",
      "source": [
        "DOCUMENT1 = \"Operating the Climate Control System  Your Googlecar has a climate control system that allows you to adjust the temperature and airflow in the car. To operate the climate control system, use the buttons and knobs located on the center console.  Temperature: The temperature knob controls the temperature inside the car. Turn the knob clockwise to increase the temperature or counterclockwise to decrease the temperature. Airflow: The airflow knob controls the amount of airflow inside the car. Turn the knob clockwise to increase the airflow or counterclockwise to decrease the airflow. Fan speed: The fan speed knob controls the speed of the fan. Turn the knob clockwise to increase the fan speed or counterclockwise to decrease the fan speed. Mode: The mode button allows you to select the desired mode. The available modes are: Auto: The car will automatically adjust the temperature and airflow to maintain a comfortable level. Cool: The car will blow cool air into the car. Heat: The car will blow warm air into the car. Defrost: The car will blow warm air onto the windshield to defrost it.\"\n",
        "DOCUMENT2 = 'Your Googlecar has a large touchscreen display that provides access to a variety of features, including navigation, entertainment, and climate control. To use the touchscreen display, simply touch the desired icon.  For example, you can touch the \"Navigation\" icon to get directions to your destination or touch the \"Music\" icon to play your favorite songs.'\n",
        "DOCUMENT3 = \"Shifting Gears Your Googlecar has an automatic transmission. To shift gears, simply move the shift lever to the desired position.  Park: This position is used when you are parked. The wheels are locked and the car cannot move. Reverse: This position is used to back up. Neutral: This position is used when you are stopped at a light or in traffic. The car is not in gear and will not move unless you press the gas pedal. Drive: This position is used to drive forward. Low: This position is used for driving in snow or other slippery conditions.\"\n",
        "\n",
        "documents = [DOCUMENT1, DOCUMENT2, DOCUMENT3]"
      ],
      "metadata": {
        "trusted": true,
        "execution": {
          "iopub.status.busy": "2024-11-13T09:07:02.227029Z",
          "iopub.execute_input": "2024-11-13T09:07:02.227393Z",
          "iopub.status.idle": "2024-11-13T09:07:02.23547Z",
          "shell.execute_reply.started": "2024-11-13T09:07:02.227339Z",
          "shell.execute_reply": "2024-11-13T09:07:02.234249Z"
        },
        "id": "yew-QPr31iry"
      },
      "outputs": [],
      "execution_count": null
    },
    {
      "cell_type": "code",
      "source": [
        "from chromadb import Documents, EmbeddingFunction, Embeddings\n",
        "from google.api_core import retry\n",
        "\n",
        "\n",
        "class GeminiEmbeddingFunction(EmbeddingFunction):\n",
        "    # Specify whether to generate embeddings for documents, or queries\n",
        "    document_mode = True\n",
        "\n",
        "    def __call__(self, input: Documents) -> Embeddings:\n",
        "        if self.document_mode:\n",
        "            embedding_task = \"retrieval_document\"\n",
        "        else:\n",
        "            embedding_task = \"retrieval_query\"\n",
        "\n",
        "        retry_policy = {\"retry\": retry.Retry(predicate=retry.if_transient_error)}\n",
        "\n",
        "        response = genai.embed_content(\n",
        "            model=\"models/text-embedding-004\",\n",
        "            content=input,\n",
        "            task_type=embedding_task,\n",
        "            request_options=retry_policy,\n",
        "        )\n",
        "        return response[\"embedding\"]"
      ],
      "metadata": {
        "trusted": true,
        "execution": {
          "iopub.status.busy": "2024-11-13T09:07:02.236863Z",
          "iopub.execute_input": "2024-11-13T09:07:02.237276Z",
          "iopub.status.idle": "2024-11-13T09:07:02.252043Z",
          "shell.execute_reply.started": "2024-11-13T09:07:02.237195Z",
          "shell.execute_reply": "2024-11-13T09:07:02.250775Z"
        },
        "id": "aGXKB3521iry"
      },
      "outputs": [],
      "execution_count": null
    },
    {
      "cell_type": "code",
      "source": [
        "import chromadb\n",
        "\n",
        "DB_NAME = \"googlecardb\"\n",
        "embed_fn = GeminiEmbeddingFunction()\n",
        "embed_fn.document_mode = True\n",
        "\n",
        "chroma_client = chromadb.Client()\n",
        "db = chroma_client.get_or_create_collection(name=DB_NAME, embedding_function=embed_fn)\n",
        "\n",
        "db.add(documents=documents, ids=[str(i) for i in range(len(documents))])\n"
      ],
      "metadata": {
        "trusted": true,
        "execution": {
          "iopub.status.busy": "2024-11-13T09:08:13.032066Z",
          "iopub.execute_input": "2024-11-13T09:08:13.032466Z",
          "iopub.status.idle": "2024-11-13T09:08:13.383966Z",
          "shell.execute_reply.started": "2024-11-13T09:08:13.032425Z",
          "shell.execute_reply": "2024-11-13T09:08:13.382907Z"
        },
        "id": "-Y3H0Y0K1iry"
      },
      "outputs": [],
      "execution_count": null
    },
    {
      "cell_type": "code",
      "source": [
        "db.count()\n",
        "# You can peek at the data too.\n",
        "# db.peek(1)"
      ],
      "metadata": {
        "trusted": true,
        "execution": {
          "iopub.status.busy": "2024-11-13T09:09:12.261478Z",
          "iopub.execute_input": "2024-11-13T09:09:12.261897Z",
          "iopub.status.idle": "2024-11-13T09:09:12.271522Z",
          "shell.execute_reply.started": "2024-11-13T09:09:12.261859Z",
          "shell.execute_reply": "2024-11-13T09:09:12.270441Z"
        },
        "id": "rhX_6Ybv1irz",
        "outputId": "8510920e-54da-49e2-9c2d-73a0c9a2df6d"
      },
      "outputs": [
        {
          "execution_count": 45,
          "output_type": "execute_result",
          "data": {
            "text/plain": "3"
          },
          "metadata": {}
        }
      ],
      "execution_count": null
    },
    {
      "cell_type": "code",
      "source": [
        "# Switch to query mode when generating embeddings.\n",
        "embed_fn.document_mode = False\n",
        "\n",
        "# Search the Chroma DB using the specified query.\n",
        "query = \"How do you use the touchscreen to play music?\"\n",
        "\n",
        "result = db.query(query_texts=[query], n_results=1)\n",
        "[[passage]] = result[\"documents\"]\n",
        "\n",
        "Markdown(passage)"
      ],
      "metadata": {
        "trusted": true,
        "execution": {
          "iopub.status.busy": "2024-11-13T09:10:15.15621Z",
          "iopub.execute_input": "2024-11-13T09:10:15.157072Z",
          "iopub.status.idle": "2024-11-13T09:10:15.419753Z",
          "shell.execute_reply.started": "2024-11-13T09:10:15.157025Z",
          "shell.execute_reply": "2024-11-13T09:10:15.418598Z"
        },
        "id": "Jh7qxWDQ1irz",
        "outputId": "a0c226ba-902a-4625-c6bb-c5e771477473"
      },
      "outputs": [
        {
          "execution_count": 46,
          "output_type": "execute_result",
          "data": {
            "text/plain": "<IPython.core.display.Markdown object>",
            "text/markdown": "Your Googlecar has a large touchscreen display that provides access to a variety of features, including navigation, entertainment, and climate control. To use the touchscreen display, simply touch the desired icon.  For example, you can touch the \"Navigation\" icon to get directions to your destination or touch the \"Music\" icon to play your favorite songs."
          },
          "metadata": {}
        }
      ],
      "execution_count": null
    },
    {
      "cell_type": "code",
      "source": [
        "passage_oneline = passage.replace(\"\\n\", \" \")\n",
        "query_oneline = query.replace(\"\\n\", \" \")\n",
        "\n",
        "# This prompt is where you can specify any guidance on tone, or what topics the model should stick to, or avoid.\n",
        "prompt = f\"\"\"You are a helpful and informative bot that answers questions using text from the reference passage included below.\n",
        "Be sure to respond in a complete sentence, being comprehensive, including all relevant background information.\n",
        "However, you are talking to a non-technical audience, so be sure to break down complicated concepts and\n",
        "strike a friendly and converstional tone. If the passage is irrelevant to the answer, you may ignore it.\n",
        "\n",
        "QUESTION: {query_oneline}\n",
        "PASSAGE: {passage_oneline}\n",
        "\"\"\"\n",
        "print(prompt)"
      ],
      "metadata": {
        "trusted": true,
        "execution": {
          "iopub.status.busy": "2024-11-13T09:15:19.099568Z",
          "iopub.execute_input": "2024-11-13T09:15:19.099992Z",
          "iopub.status.idle": "2024-11-13T09:15:19.107533Z",
          "shell.execute_reply.started": "2024-11-13T09:15:19.099953Z",
          "shell.execute_reply": "2024-11-13T09:15:19.106328Z"
        },
        "id": "E9oEpbf-1irz",
        "outputId": "548d2640-ff92-4613-b2b3-96b470ae52c8"
      },
      "outputs": [
        {
          "name": "stdout",
          "text": "You are a helpful and informative bot that answers questions using text from the reference passage included below. \nBe sure to respond in a complete sentence, being comprehensive, including all relevant background information. \nHowever, you are talking to a non-technical audience, so be sure to break down complicated concepts and \nstrike a friendly and converstional tone. If the passage is irrelevant to the answer, you may ignore it.\n\nQUESTION: How do you use the touchscreen to play music?\nPASSAGE: Your Googlecar has a large touchscreen display that provides access to a variety of features, including navigation, entertainment, and climate control. To use the touchscreen display, simply touch the desired icon.  For example, you can touch the \"Navigation\" icon to get directions to your destination or touch the \"Music\" icon to play your favorite songs.\n\n",
          "output_type": "stream"
        }
      ],
      "execution_count": null
    },
    {
      "cell_type": "code",
      "source": [
        "model = genai.GenerativeModel(\"gemini-1.5-flash-latest\")\n",
        "answer = model.generate_content(prompt)\n",
        "Markdown(answer.text)"
      ],
      "metadata": {
        "trusted": true,
        "execution": {
          "iopub.status.busy": "2024-11-13T09:16:30.788252Z",
          "iopub.execute_input": "2024-11-13T09:16:30.788696Z",
          "iopub.status.idle": "2024-11-13T09:16:31.225708Z",
          "shell.execute_reply.started": "2024-11-13T09:16:30.788655Z",
          "shell.execute_reply": "2024-11-13T09:16:31.22464Z"
        },
        "id": "gCM3kTJc1irz",
        "outputId": "765b6ff2-6257-452e-af25-d9723351b51f"
      },
      "outputs": [
        {
          "execution_count": 49,
          "output_type": "execute_result",
          "data": {
            "text/plain": "<IPython.core.display.Markdown object>",
            "text/markdown": "You can play music by touching the \"Music\" icon on your Googlecar's touchscreen display. \n"
          },
          "metadata": {}
        }
      ],
      "execution_count": null
    },
    {
      "cell_type": "code",
      "source": [],
      "metadata": {
        "trusted": true,
        "id": "YAeO8pcs1ir0"
      },
      "outputs": [],
      "execution_count": null
    }
  ]
}